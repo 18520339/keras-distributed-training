{
 "cells": [
  {
   "cell_type": "code",
   "execution_count": null,
   "id": "36018a62",
   "metadata": {},
   "outputs": [],
   "source": [
    "import os\n",
    "import json\n",
    "import tensorflow as tf\n",
    "tf.get_logger().setLevel('ERROR')"
   ]
  },
  {
   "cell_type": "markdown",
   "id": "d260307c",
   "metadata": {},
   "source": [
    "# Cluster setup"
   ]
  },
  {
   "cell_type": "code",
   "execution_count": null,
   "id": "e4ada82a",
   "metadata": {},
   "outputs": [],
   "source": [
    "tf_config = {\n",
    "    'cluster': {\n",
    "        'worker': ['192.168.1.1:12345', '192.168.1.2:12345'],\n",
    "        'ps': ['192.168.1.3:12345', '192.168.1.4:12345'],\n",
    "        'chief': ['192.168.1.5:12345']\n",
    "    },\n",
    "    'task': {'type': 'ps', 'index': 0}\n",
    "}\n",
    "os.environ.pop('TF_CONFIG', None)\n",
    "os.environ['TF_CONFIG'] = json.dumps(tf_config)\n",
    "\n",
    "# Allow reporting worker and ps failure to the coordinator\n",
    "os.environ['GRPC_FAIL_FAST'] = 'use_caller'"
   ]
  },
  {
   "cell_type": "code",
   "execution_count": null,
   "id": "af03e061",
   "metadata": {},
   "outputs": [],
   "source": [
    "cluster_resolver = tf.distribute.cluster_resolver.TFConfigClusterResolver()\n",
    "if cluster_resolver.task_type != \"ps\":\n",
    "    raise SystemError('Machine is in wrong role')"
   ]
  },
  {
   "cell_type": "code",
   "execution_count": null,
   "id": "28db99d7",
   "metadata": {},
   "outputs": [],
   "source": [
    "server = tf.distribute.Server(\n",
    "    cluster_resolver.cluster_spec(),\n",
    "    job_name = cluster_resolver.task_type,\n",
    "    task_index = cluster_resolver.task_id,\n",
    "    protocol = cluster_resolver.rpc_layer or 'grpc',\n",
    "    start = True\n",
    ")\n",
    "server.join()"
   ]
  }
 ],
 "metadata": {
  "kernelspec": {
   "display_name": "Python 3 (ipykernel)",
   "language": "python",
   "name": "python3"
  },
  "language_info": {
   "codemirror_mode": {
    "name": "ipython",
    "version": 3
   },
   "file_extension": ".py",
   "mimetype": "text/x-python",
   "name": "python",
   "nbconvert_exporter": "python",
   "pygments_lexer": "ipython3",
   "version": "3.8.11"
  }
 },
 "nbformat": 4,
 "nbformat_minor": 5
}
