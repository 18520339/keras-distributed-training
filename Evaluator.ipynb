{
 "cells": [
  {
   "cell_type": "code",
   "execution_count": null,
   "id": "16149e27",
   "metadata": {},
   "outputs": [],
   "source": [
    "import os\n",
    "import json\n",
    "import tensorflow as tf\n",
    "tf.get_logger().setLevel('ERROR')"
   ]
  },
  {
   "cell_type": "markdown",
   "id": "19cc11f7",
   "metadata": {},
   "source": [
    "# Cluster setup"
   ]
  },
  {
   "cell_type": "code",
   "execution_count": null,
   "id": "b166f66c",
   "metadata": {},
   "outputs": [],
   "source": [
    "tf_config = {\n",
    "    'cluster': {'evaluator': ['192.168.1.6:12345']},\n",
    "    'task': {'type': 'evaluator', 'index': 0}\n",
    "}\n",
    "os.environ.pop('TF_CONFIG', None)\n",
    "os.environ['TF_CONFIG'] = json.dumps(tf_config)"
   ]
  },
  {
   "cell_type": "code",
   "execution_count": null,
   "id": "609f6e06",
   "metadata": {},
   "outputs": [],
   "source": [
    "cluster_resolver = tf.distribute.cluster_resolver.TFConfigClusterResolver()\n",
    "if cluster_resolver.task_type != 'evaluator':\n",
    "    raise SystemError('Machine is in wrong role')"
   ]
  },
  {
   "cell_type": "markdown",
   "id": "f3923e34",
   "metadata": {},
   "source": [
    "# Path setup"
   ]
  },
  {
   "cell_type": "code",
   "execution_count": null,
   "id": "900be4d9",
   "metadata": {},
   "outputs": [],
   "source": [
    "TRAIN_PATH = 'Dataset/Train'\n",
    "VALIDATE_PATH = 'Dataset/Validate'\n",
    "TEST_PATH = 'Dataset/Test'"
   ]
  },
  {
   "cell_type": "code",
   "execution_count": null,
   "id": "9652ab20",
   "metadata": {},
   "outputs": [],
   "source": [
    "MODEL_PATH = 'Model'\n",
    "\n",
    "BASE_MODEL_CKPT = os.path.join(MODEL_PATH, 'base_model_ckpt-{epoch}')\n",
    "BASE_MODEL_TRAINED = os.path.join(MODEL_PATH, 'base_model_trained.hdf5')\n",
    "BASE_MODEL_FIG = os.path.join(MODEL_PATH, 'base_model_fig.jpg')\n",
    "BASE_MODEL_LOG = os.path.join(MODEL_PATH, 'base_model_log')\n",
    "BASE_MODEL_BACKUP = os.path.join(MODEL_PATH, 'base_model_backup')\n",
    "\n",
    "FINE_TUNE_MODEL_CKPT = os.path.join(MODEL_PATH, 'fine_tune_model_ckpt-{epoch}')\n",
    "FINE_TUNE_MODEL_TRAINED = os.path.join(MODEL_PATH, 'fine_tune_model_trained.hdf5')\n",
    "FINE_TUNE_MODEL_FIG = os.path.join(MODEL_PATH, 'fine_tune_model_fig.jpg')\n",
    "FINE_TUNE_MODEL_LOG = os.path.join(MODEL_PATH, 'fine_tune_model_log')\n",
    "FINE_TUNE_MODEL_BACKUP = os.path.join(MODEL_PATH, 'fine_tune_backup')"
   ]
  },
  {
   "cell_type": "markdown",
   "id": "2ea27e23",
   "metadata": {},
   "source": [
    "# Preparing data"
   ]
  },
  {
   "cell_type": "code",
   "execution_count": null,
   "id": "09399e73",
   "metadata": {},
   "outputs": [],
   "source": [
    "CLASSES = 30\n",
    "IMAGE_SIZE = (300, 300)\n",
    "BATCH_SIZE_PER_REPLICA = 64\n",
    "GLOBAL_BATCH_SIZE = BATCH_SIZE_PER_REPLICA * strategy.num_replicas_in_sync"
   ]
  },
  {
   "cell_type": "code",
   "execution_count": null,
   "id": "595e5505",
   "metadata": {},
   "outputs": [],
   "source": [
    "from tensorflow.keras.preprocessing.image import ImageDataGenerator\n",
    "validate_generator = ImageDataGenerator(rescale=1./255)\n",
    "generated_validate_data = validate_generator.flow_from_directory(\n",
    "    VALIDATE_PATH, \n",
    "    target_size = IMAGE_SIZE, \n",
    "    batch_size = GLOBAL_BATCH_SIZE\n",
    ")"
   ]
  },
  {
   "cell_type": "code",
   "execution_count": null,
   "id": "47639ded",
   "metadata": {},
   "outputs": [],
   "source": [
    "validate_dataset = tf.data.Dataset.from_generator(\n",
    "    lambda: generated_validate_data, \n",
    "    output_types = (tf.float32, tf.float32), \n",
    "    output_shapes = (\n",
    "        [GLOBAL_BATCH_SIZE, *IMAGE_SIZE, 3], \n",
    "        [GLOBAL_BATCH_SIZE, CLASSES]\n",
    "    )\n",
    ").cache().prefetch(buffer_size=tf.data.AUTOTUNE)"
   ]
  },
  {
   "cell_type": "markdown",
   "id": "1c367f18",
   "metadata": {},
   "source": [
    "# Define the model"
   ]
  },
  {
   "cell_type": "code",
   "execution_count": null,
   "id": "44bebf4a",
   "metadata": {},
   "outputs": [],
   "source": [
    "from tensorflow.keras.applications.resnet_v2 import ResNet152V2\n",
    "from tensorflow.keras.layers import GlobalAveragePooling2D, Dense, Dropout\n",
    "from tensorflow.keras.models import Model"
   ]
  },
  {
   "cell_type": "code",
   "execution_count": null,
   "id": "88ee83c4",
   "metadata": {},
   "outputs": [],
   "source": [
    "pretrained_model = ResNet152V2(weights='imagenet', include_top=False)\n",
    "last_output = pretrained_model.output\n",
    "x = GlobalAveragePooling2D()(last_output)\n",
    "x = Dense(512, activation='relu')(x)\n",
    "x = Dropout(0.2)(x)\n",
    "outputs = Dense(CLASSES, activation='softmax')(x)\n",
    "model = Model(inputs=pretrained_model.input, outputs=outputs)"
   ]
  },
  {
   "cell_type": "markdown",
   "id": "6f817c19",
   "metadata": {},
   "source": [
    "# Side-car evaluation"
   ]
  },
  {
   "cell_type": "markdown",
   "id": "320c61df",
   "metadata": {},
   "source": [
    "## Stage 1: Transfer learning"
   ]
  },
  {
   "cell_type": "code",
   "execution_count": null,
   "id": "4a395936",
   "metadata": {},
   "outputs": [],
   "source": [
    "for layer in pretrained_model.layers: layer.trainable = False\n",
    "model.compile(optimizer='rmsprop', loss='categorical_crossentropy', metrics=['accuracy'])"
   ]
  },
  {
   "cell_type": "code",
   "execution_count": null,
   "id": "a5496eb9",
   "metadata": {},
   "outputs": [],
   "source": [
    "tf.keras.experimental.SidecarEvaluator(\n",
    "    model = model,\n",
    "    data = data,\n",
    "    checkpoint_dir = BASE_MODEL_CKPT, # Dir for training-saved checkpoint\n",
    "    steps = None, # Evaluate until dataset is exhausted\n",
    "    max_evaluations = None, # The evaluation needs to be stopped manually\n",
    "    callbacks = [TensorBoard(log_dir=BASE_MODEL_LOG)]\n",
    ").start()"
   ]
  },
  {
   "cell_type": "markdown",
   "id": "87c7e32b",
   "metadata": {},
   "source": [
    "## Stage 2: Fine tuning"
   ]
  },
  {
   "cell_type": "code",
   "execution_count": null,
   "id": "3fde8af5",
   "metadata": {},
   "outputs": [],
   "source": [
    "from tensorflow.keras.optimizers import SGD\n",
    "for layer in pretrained_model.layers[:FINE_TUNE_AT]: layer.trainable = False\n",
    "for layer in pretrained_model.layers[FINE_TUNE_AT:]: layer.trainable = True\n",
    "model.compile(\n",
    "    optimizer = SGD(learning_rate=1e-4, momentum=0.9), \n",
    "    loss = 'categorical_crossentropy', \n",
    "    metrics = ['accuracy']\n",
    ")"
   ]
  },
  {
   "cell_type": "code",
   "execution_count": null,
   "id": "28fd26c0",
   "metadata": {},
   "outputs": [],
   "source": [
    "tf.keras.experimental.SidecarEvaluator(\n",
    "    model = model,\n",
    "    data = data,\n",
    "    checkpoint_dir = FINE_TUNE_MODEL_CKPT, # Dir for training-saved checkpoint\n",
    "    steps = None, # Evaluate until dataset is exhausted\n",
    "    max_evaluations = None, # The evaluation needs to be stopped manually\n",
    "    callbacks = [TensorBoard(log_dir=BASE_MODEL_LOG)]\n",
    ").start()"
   ]
  }
 ],
 "metadata": {
  "kernelspec": {
   "display_name": "Python 3 (ipykernel)",
   "language": "python",
   "name": "python3"
  },
  "language_info": {
   "codemirror_mode": {
    "name": "ipython",
    "version": 3
   },
   "file_extension": ".py",
   "mimetype": "text/x-python",
   "name": "python",
   "nbconvert_exporter": "python",
   "pygments_lexer": "ipython3",
   "version": "3.8.11"
  }
 },
 "nbformat": 4,
 "nbformat_minor": 5
}
