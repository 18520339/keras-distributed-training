{
 "cells": [
  {
   "cell_type": "code",
   "execution_count": null,
   "id": "e7b64773",
   "metadata": {},
   "outputs": [],
   "source": [
    "import os\n",
    "import json\n",
    "import multiprocessing\n",
    "import tensorflow as tf\n",
    "tf.get_logger().setLevel('ERROR')"
   ]
  },
  {
   "cell_type": "code",
   "execution_count": null,
   "id": "fdc5e414",
   "metadata": {},
   "outputs": [],
   "source": [
    "gpu_devices = tf.config.list_physical_devices('GPU') \n",
    "if len(gpu_devices) == 0: \n",
    "    raise SystemError('GPU device not found')\n",
    "for gpu in gpu_devices: \n",
    "    tf.config.experimental.set_memory_growth(gpu, True)\n",
    "gpu_devices"
   ]
  },
  {
   "cell_type": "markdown",
   "id": "fbc29a2f",
   "metadata": {},
   "source": [
    "# Cluster setup"
   ]
  },
  {
   "cell_type": "code",
   "execution_count": null,
   "id": "782ae19e",
   "metadata": {},
   "outputs": [],
   "source": [
    "tf_config = {\n",
    "    'cluster': {\n",
    "        'worker': ['192.168.1.1:12345', '192.168.1.2:12345'],\n",
    "        'ps': ['192.168.1.3:12345', '192.168.1.4:12345'],\n",
    "        'chief': ['192.168.1.5:12345']\n",
    "    },\n",
    "    'task': {'type': 'worker', 'index': 0}\n",
    "}\n",
    "os.environ.pop('TF_CONFIG', None)\n",
    "os.environ['TF_CONFIG'] = json.dumps(tf_config)\n",
    "\n",
    "# Allow reporting worker and ps failure to the coordinator\n",
    "os.environ['GRPC_FAIL_FAST'] = 'use_caller'"
   ]
  },
  {
   "cell_type": "code",
   "execution_count": null,
   "id": "1ce048a9",
   "metadata": {},
   "outputs": [],
   "source": [
    "# Workers need some inter_ops threads to work properly.\n",
    "num_workers = len(tf_config['cluster']['worker'])\n",
    "worker_config = tf.compat.v1.ConfigProto()\n",
    "if multiprocessing.cpu_count() < num_workers + 1:\n",
    "    worker_config.inter_op_parallelism_threads = num_workers + 1"
   ]
  },
  {
   "cell_type": "code",
   "execution_count": null,
   "id": "102b74e9",
   "metadata": {},
   "outputs": [],
   "source": [
    "cluster_resolver = tf.distribute.cluster_resolver.TFConfigClusterResolver()\n",
    "if cluster_resolver.task_type != \"worker\":\n",
    "    raise SystemError('Machine is in wrong role')"
   ]
  },
  {
   "cell_type": "code",
   "execution_count": null,
   "id": "f9b1c72f",
   "metadata": {},
   "outputs": [],
   "source": [
    "server = tf.distribute.Server(\n",
    "    cluster_resolver.cluster_spec(),\n",
    "    job_name = cluster_resolver.task_type,\n",
    "    task_index = cluster_resolver.task_id,\n",
    "    config = worker_config,\n",
    "    protocol = cluster_resolver.rpc_layer or 'grpc',\n",
    "    start = True\n",
    ")\n",
    "server.join()"
   ]
  }
 ],
 "metadata": {
  "kernelspec": {
   "display_name": "Python 3 (ipykernel)",
   "language": "python",
   "name": "python3"
  },
  "language_info": {
   "codemirror_mode": {
    "name": "ipython",
    "version": 3
   },
   "file_extension": ".py",
   "mimetype": "text/x-python",
   "name": "python",
   "nbconvert_exporter": "python",
   "pygments_lexer": "ipython3",
   "version": "3.8.11"
  }
 },
 "nbformat": 4,
 "nbformat_minor": 5
}
