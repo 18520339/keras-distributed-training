{
 "cells": [
  {
   "cell_type": "code",
   "execution_count": 1,
   "id": "854ec4aa",
   "metadata": {},
   "outputs": [],
   "source": [
    "import os\n",
    "import json\n",
    "import tensorflow as tf\n",
    "tf.get_logger().setLevel('ERROR')"
   ]
  },
  {
   "cell_type": "markdown",
   "id": "c8d6823e",
   "metadata": {},
   "source": [
    "# Cluster setup"
   ]
  },
  {
   "cell_type": "code",
   "execution_count": null,
   "id": "a4145c61",
   "metadata": {},
   "outputs": [],
   "source": [
    "tf_config = {\n",
    "    'cluster': {\n",
    "        'worker': ['192.168.1.1:12345', '192.168.1.2:12345'],\n",
    "        'ps': ['192.168.1.3:12345', '192.168.1.4:12345'],\n",
    "        'chief': ['192.168.1.5:12345']\n",
    "    },\n",
    "    'task': {'type': 'chief', 'index': 0}\n",
    "}\n",
    "os.environ.pop('TF_CONFIG', None)\n",
    "os.environ['TF_CONFIG'] = json.dumps(tf_config)\n",
    "\n",
    "# Allow reporting worker and ps failure to the coordinator\n",
    "os.environ['GRPC_FAIL_FAST'] = 'use_caller'"
   ]
  },
  {
   "cell_type": "code",
   "execution_count": null,
   "id": "f3928ab7",
   "metadata": {},
   "outputs": [],
   "source": [
    "cluster_resolver = tf.distribute.cluster_resolver.TFConfigClusterResolver()\n",
    "if cluster_resolver.task_type != 'chief':\n",
    "    raise SystemError('Machine is in wrong role')"
   ]
  },
  {
   "cell_type": "markdown",
   "id": "0d705c95",
   "metadata": {},
   "source": [
    "## Instantiate a ParameterServerStrategy"
   ]
  },
  {
   "cell_type": "code",
   "execution_count": null,
   "id": "43364e28",
   "metadata": {},
   "outputs": [],
   "source": [
    "variable_partitioner = (\n",
    "    tf.distribute.experimental.partitioners.MinSizePartitioner(\n",
    "        min_shard_bytes = (256 << 10),\n",
    "        max_shards = len(tf_config['cluster']['ps'])\n",
    "    )\n",
    ")\n",
    "strategy = tf.distribute.experimental.ParameterServerStrategy(\n",
    "    cluster_resolver,\n",
    "    variable_partitioner = variable_partitioner\n",
    ")\n",
    "print(f'Number of devices: {strategy.num_replicas_in_sync}')"
   ]
  },
  {
   "cell_type": "markdown",
   "id": "0878e7bf",
   "metadata": {},
   "source": [
    "# Path setup"
   ]
  },
  {
   "cell_type": "code",
   "execution_count": 2,
   "id": "3390668e",
   "metadata": {},
   "outputs": [],
   "source": [
    "TRAIN_PATH = 'Dataset/Train'\n",
    "VALIDATE_PATH = 'Dataset/Validate'\n",
    "TEST_PATH = 'Dataset/Test'"
   ]
  },
  {
   "cell_type": "code",
   "execution_count": 3,
   "id": "60cbfd6b",
   "metadata": {},
   "outputs": [],
   "source": [
    "MODEL_PATH = 'Model'\n",
    "\n",
    "BASE_MODEL_BEST = os.path.join(MODEL_PATH, 'base_model_best.hdf5')\n",
    "BASE_MODEL_TRAINED = os.path.join(MODEL_PATH, 'base_model_trained.hdf5')\n",
    "BASE_MODEL_FIG = os.path.join(MODEL_PATH, 'base_model_fig.jpg')\n",
    "BASE_MODEL_LOG = os.path.join(MODEL_PATH, 'base_model_log')\n",
    "BASE_MODEL_BACKUP = os.path.join(MODEL_PATH, 'base_model_backup')\n",
    "\n",
    "FINE_TUNE_MODEL_BEST = os.path.join(MODEL_PATH, 'fine_tune_model_best.hdf5')\n",
    "FINE_TUNE_MODEL_TRAINED = os.path.join(MODEL_PATH, 'fine_tune_model_trained.hdf5')\n",
    "FINE_TUNE_MODEL_FIG = os.path.join(MODEL_PATH, 'fine_tune_model_fig.jpg')\n",
    "FINE_TUNE_MODEL_LOG = os.path.join(MODEL_PATH, 'fine_tune_model_log')\n",
    "FINE_TUNE_MODEL_BACKUP = os.path.join(MODEL_PATH, 'fine_tune_backup')"
   ]
  },
  {
   "cell_type": "markdown",
   "id": "fca58d0e",
   "metadata": {},
   "source": [
    "# Preparing data"
   ]
  },
  {
   "cell_type": "code",
   "execution_count": 4,
   "id": "4b16ed86",
   "metadata": {},
   "outputs": [],
   "source": [
    "CLASSES = 30\n",
    "IMAGE_SIZE = (300, 300)\n",
    "BATCH_SIZE_PER_REPLICA = 64\n",
    "GLOBAL_BATCH_SIZE = BATCH_SIZE_PER_REPLICA * strategy.num_replicas_in_sync"
   ]
  },
  {
   "cell_type": "code",
   "execution_count": 5,
   "id": "2ae29b8c",
   "metadata": {},
   "outputs": [],
   "source": [
    "from tensorflow.keras.preprocessing.image import ImageDataGenerator\n",
    "train_generator = ImageDataGenerator(\n",
    "    rescale = 1./255,\n",
    "    rotation_range = 40, \n",
    "    width_shift_range = 0.2, \n",
    "    height_shift_range = 0.2,\n",
    "    shear_range = 0.2,\n",
    "    zoom_range = 0.2,\n",
    "    horizontal_flip = True\n",
    ")\n",
    "validate_generator = ImageDataGenerator(rescale=1./255)\n",
    "test_generator = ImageDataGenerator(rescale=1./255)"
   ]
  },
  {
   "cell_type": "markdown",
   "id": "c810180b",
   "metadata": {},
   "source": [
    "## Input data"
   ]
  },
  {
   "cell_type": "code",
   "execution_count": 6,
   "id": "fb11ae7b",
   "metadata": {},
   "outputs": [],
   "source": [
    "def train_dataset_fn(input_context):\n",
    "    batch_size = input_context.get_per_replica_batch_size(GLOBAL_BATCH_SIZE)\n",
    "    train_dataset = tf.data.Dataset.from_generator(\n",
    "        lambda: train_generator.flow_from_directory(\n",
    "            TRAIN_PATH, \n",
    "            target_size = IMAGE_SIZE, \n",
    "            batch_size = batch_size\n",
    "        ), \n",
    "        output_types = (tf.float32, tf.float32), \n",
    "        output_shapes = ([batch_size, *IMAGE_SIZE, 3], [batch_size, CLASSES])\n",
    "    ).shard(\n",
    "        input_context.num_input_pipelines, \n",
    "        input_context.input_pipeline_id\n",
    "    ).cache()\n",
    "    return train_dataset.prefetch(buffer_size=tf.data.AUTOTUNE)"
   ]
  },
  {
   "cell_type": "code",
   "execution_count": 7,
   "id": "1b454906",
   "metadata": {},
   "outputs": [],
   "source": [
    "def validate_dataset_fn(input_context):\n",
    "    batch_size = input_context.get_per_replica_batch_size(GLOBAL_BATCH_SIZE)\n",
    "    validate_dataset = tf.data.Dataset.from_generator(\n",
    "        lambda: validate_generator.flow_from_directory(\n",
    "            VALIDATE_PATH, \n",
    "            target_size = IMAGE_SIZE, \n",
    "            batch_size = batch_size\n",
    "        ), \n",
    "        output_types = (tf.float32, tf.float32), \n",
    "        output_shapes = ([batch_size, *IMAGE_SIZE, 3], [batch_size, CLASSES])\n",
    "    ).shard(\n",
    "        input_context.num_input_pipelines, \n",
    "        input_context.input_pipeline_id\n",
    "    ).cache()\n",
    "    return validate_dataset.prefetch(buffer_size=tf.data.AUTOTUNE)"
   ]
  },
  {
   "cell_type": "code",
   "execution_count": 30,
   "id": "a260cb79",
   "metadata": {},
   "outputs": [],
   "source": [
    "from tensorflow.keras.utils.experimental import DatasetCreator\n",
    "train_dataset = DatasetCreator(train_dataset_fn)\n",
    "validate_dataset = DatasetCreator(validate_dataset_fn)\n",
    "\n",
    "num_train = !find {TRAIN_PATH} -type f | wc -l\n",
    "num_validate = !find {VALIDATE_PATH} -type f | wc -l\n",
    "num_train, num_validate = int(num_train[0]), int(num_validate[0])"
   ]
  },
  {
   "cell_type": "markdown",
   "id": "2f8912fc",
   "metadata": {},
   "source": [
    "# Model implement"
   ]
  },
  {
   "cell_type": "code",
   "execution_count": null,
   "id": "91fe72e6",
   "metadata": {},
   "outputs": [],
   "source": [
    "INITIAL_EPOCHS = 15\n",
    "FINE_TUNE_EPOCHS = 15\n",
    "TOTAL_EPOCHS = INITIAL_EPOCHS + FINE_TUNE_EPOCHS\n",
    "FINE_TUNE_AT = 516"
   ]
  },
  {
   "cell_type": "code",
   "execution_count": null,
   "id": "6a3fa755",
   "metadata": {},
   "outputs": [],
   "source": [
    "from tensorflow.keras.applications.resnet_v2 import ResNet152V2\n",
    "from tensorflow.keras.layers import GlobalAveragePooling2D, Dense, Dropout\n",
    "from tensorflow.keras.models import Model"
   ]
  },
  {
   "cell_type": "markdown",
   "id": "3f9d10fe",
   "metadata": {},
   "source": [
    "## Callbacks"
   ]
  },
  {
   "cell_type": "code",
   "execution_count": null,
   "id": "dc351f38",
   "metadata": {},
   "outputs": [],
   "source": [
    "from tensorflow.keras.callbacks import TensorBoard, BackupAndRestore\n",
    "\n",
    "base_tensorboard = TensorBoard(log_dir=BASE_MODEL_LOG)\n",
    "base_backup = BackupAndRestore(backup_dir=BASE_MODEL_BACKUP)\n",
    "\n",
    "fine_tune_tensorboard = TensorBoard(log_dir=FINE_TUNE_MODEL_LOG)\n",
    "fine_tunee_backup = BackupAndRestore(backup_dir=FINE_TUNE_MODEL_BACKUP)"
   ]
  },
  {
   "cell_type": "code",
   "execution_count": null,
   "id": "25e46fa7",
   "metadata": {},
   "outputs": [],
   "source": [
    "from tensorflow.keras.callbacks import ModelCheckpoint, EarlyStopping\n",
    "\n",
    "base_checkpointer = ModelCheckpoint(\n",
    "    filepath = BASE_MODEL_BEST, \n",
    "    save_best_only = True, \n",
    "    verbose = 1\n",
    ")\n",
    "\n",
    "fine_tune_checkpointer = ModelCheckpoint(\n",
    "    filepath = FINE_TUNE_MODEL_BEST, \n",
    "    save_best_only = True,\n",
    "    verbose = 1, \n",
    ")\n",
    "\n",
    "# Stop if no improvement after 3 epochs\n",
    "early_stopping = EarlyStopping(monitor='val_loss', patience=3, verbose=1)"
   ]
  },
  {
   "cell_type": "markdown",
   "id": "26cbbce1",
   "metadata": {},
   "source": [
    "## Stage 1: Transfer learning"
   ]
  },
  {
   "cell_type": "code",
   "execution_count": null,
   "id": "ab535ffa",
   "metadata": {},
   "outputs": [],
   "source": [
    "with strategy.scope():\n",
    "    pretrained_model = ResNet50(weights='imagenet', include_top=False)\n",
    "    last_output = pretrained_model.output\n",
    "    x = GlobalAveragePooling2D()(last_output)\n",
    "    x = Dense(512, activation='relu')(x)\n",
    "    x = Dropout(0.2)(x)\n",
    "    outputs = Dense(CLASSES, activation='softmax')(x)\n",
    "    model = Model(inputs=pretrained_model.input, outputs=outputs)\n",
    "    \n",
    "    for layer in pretrained_model.layers: layer.trainable = False\n",
    "    model.compile(\n",
    "        optimizer = 'rmsprop', \n",
    "        loss = 'categorical_crossentropy', \n",
    "        metrics = ['accuracy']\n",
    "    )"
   ]
  },
  {
   "cell_type": "code",
   "execution_count": null,
   "id": "5214f96f",
   "metadata": {},
   "outputs": [],
   "source": [
    "history = model.fit(\n",
    "    train_dataset,\n",
    "    validation_data = validate_dataset,\n",
    "    validation_steps = num_validate // GLOBAL_BATCH_SIZE,\n",
    "    steps_per_epoch = num_train // GLOBAL_BATCH_SIZE,\n",
    "    callbacks = [\n",
    "        base_tensorboard,\n",
    "        base_backup,\n",
    "        base_checkpointer,\n",
    "        early_stopping,\n",
    "    ],\n",
    "    epochs = INITIAL_EPOCHS,\n",
    "    verbose = 1,\n",
    ")\n",
    "model.save(BASE_MODEL_TRAINED)"
   ]
  },
  {
   "cell_type": "markdown",
   "id": "69f4fced",
   "metadata": {},
   "source": [
    "## Stage 2: Fine tuning"
   ]
  },
  {
   "cell_type": "code",
   "execution_count": null,
   "id": "1bc4b38b",
   "metadata": {},
   "outputs": [],
   "source": [
    "from tensorflow.keras.optimizers import SGD\n",
    "with strategy.scope():\n",
    "    for layer in pretrained_model.layers[:FINE_TUNE_AT]: \n",
    "        layer.trainable = False\n",
    "    for layer in pretrained_model.layers[FINE_TUNE_AT:]: \n",
    "        layer.trainable = True\n",
    "    model.compile(\n",
    "        optimizer = SGD(learning_rate=1e-4, momentum=0.9), \n",
    "        loss = 'categorical_crossentropy', \n",
    "        metrics = ['accuracy']\n",
    "    )"
   ]
  },
  {
   "cell_type": "code",
   "execution_count": null,
   "id": "eff98cd6",
   "metadata": {},
   "outputs": [],
   "source": [
    "history_fine = model.fit(\n",
    "    train_dataset,\n",
    "    validation_data = validate_dataset,\n",
    "    validation_steps = num_validate // GLOBAL_BATCH_SIZE,\n",
    "    steps_per_epoch = num_train // GLOBAL_BATCH_SIZE,\n",
    "    epochs = TOTAL_EPOCHS,\n",
    "    initial_epoch = history.epoch[-1],\n",
    "    callbacks = [\n",
    "        fine_tune_tensorboard,\n",
    "        fine_tune_backup,\n",
    "        fine_tune_checkpointer,\n",
    "        early_stopping,\n",
    "    ]\n",
    "    verbose = 1,\n",
    ")\n",
    "model.save(FINE_TUNE_MODEL_TRAINED)"
   ]
  }
 ],
 "metadata": {
  "kernelspec": {
   "display_name": "Python 3 (ipykernel)",
   "language": "python",
   "name": "python3"
  },
  "language_info": {
   "codemirror_mode": {
    "name": "ipython",
    "version": 3
   },
   "file_extension": ".py",
   "mimetype": "text/x-python",
   "name": "python",
   "nbconvert_exporter": "python",
   "pygments_lexer": "ipython3",
   "version": "3.8.11"
  }
 },
 "nbformat": 4,
 "nbformat_minor": 5
}
