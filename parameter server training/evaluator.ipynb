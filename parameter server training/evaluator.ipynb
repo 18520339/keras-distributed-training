{
 "cells": [
  {
   "cell_type": "code",
   "execution_count": 1,
   "id": "16149e27",
   "metadata": {},
   "outputs": [],
   "source": [
    "import os\n",
    "import json\n",
    "import tensorflow as tf\n",
    "tf.get_logger().setLevel('ERROR')\n",
    "%load_ext tensorboard"
   ]
  },
  {
   "cell_type": "markdown",
   "id": "19cc11f7",
   "metadata": {},
   "source": [
    "# Cluster setup"
   ]
  },
  {
   "cell_type": "code",
   "execution_count": 2,
   "id": "b166f66c",
   "metadata": {},
   "outputs": [
    {
     "data": {
      "text/plain": [
       "<tensorflow.python.distribute.cluster_resolver.tfconfig_cluster_resolver.TFConfigClusterResolver at 0x1b19b2ec3d0>"
      ]
     },
     "execution_count": 2,
     "metadata": {},
     "output_type": "execute_result"
    }
   ],
   "source": [
    "tf_config = {\n",
    "    'cluster': {'evaluator': ['192.168.1.6:12345']},\n",
    "    'task': {'type': 'evaluator', 'index': 0}\n",
    "}\n",
    "os.environ.pop('TF_CONFIG', None)\n",
    "os.environ['TF_CONFIG'] = json.dumps(tf_config)\n",
    "tf.distribute.cluster_resolver.TFConfigClusterResolver()"
   ]
  },
  {
   "cell_type": "markdown",
   "id": "f3923e34",
   "metadata": {},
   "source": [
    "# Path setup"
   ]
  },
  {
   "cell_type": "code",
   "execution_count": 3,
   "id": "900be4d9",
   "metadata": {},
   "outputs": [],
   "source": [
    "TRAIN_PATH = 'Dataset/Train'\n",
    "VALIDATE_PATH = 'Dataset/Validate'\n",
    "TEST_PATH = 'Dataset/Test'\n",
    "\n",
    "MODEL_PATH = 'Model'\n",
    "MODEL_CKPT = os.path.join(MODEL_PATH, 'ckpt-{epoch}')"
   ]
  },
  {
   "cell_type": "markdown",
   "id": "2ea27e23",
   "metadata": {},
   "source": [
    "# Preparing data"
   ]
  },
  {
   "cell_type": "code",
   "execution_count": 5,
   "id": "09399e73",
   "metadata": {},
   "outputs": [],
   "source": [
    "CLASSES = 30\n",
    "IMAGE_SIZE = (224, 224)\n",
    "GLOBAL_BATCH_SIZE = 64"
   ]
  },
  {
   "cell_type": "code",
   "execution_count": null,
   "id": "595e5505",
   "metadata": {},
   "outputs": [],
   "source": [
    "from tensorflow.keras.preprocessing.image import ImageDataGenerator\n",
    "validate_generator = ImageDataGenerator(rescale=1./255)\n",
    "generated_validate_data = validate_generator.flow_from_directory(\n",
    "    VALIDATE_PATH, \n",
    "    target_size = IMAGE_SIZE, \n",
    "    batch_size = GLOBAL_BATCH_SIZE\n",
    ")"
   ]
  },
  {
   "cell_type": "code",
   "execution_count": null,
   "id": "47639ded",
   "metadata": {},
   "outputs": [],
   "source": [
    "validate_dataset = tf.data.Dataset.from_generator(\n",
    "    lambda: generated_validate_data, \n",
    "    output_types = (tf.float32, tf.float32), \n",
    "    output_shapes = (\n",
    "        [GLOBAL_BATCH_SIZE, *IMAGE_SIZE, 3], \n",
    "        [GLOBAL_BATCH_SIZE, CLASSES]\n",
    "    )\n",
    ").cache().prefetch(buffer_size=tf.data.AUTOTUNE)"
   ]
  },
  {
   "cell_type": "markdown",
   "id": "1c367f18",
   "metadata": {},
   "source": [
    "# Define the model"
   ]
  },
  {
   "cell_type": "code",
   "execution_count": null,
   "id": "44bebf4a",
   "metadata": {},
   "outputs": [],
   "source": [
    "from tensorflow.keras.applications import MobileNetV2\n",
    "from tensorflow.keras.applications.mobilenet_v2 import preprocess_input\n",
    "from tensorflow.keras.layers import GlobalAveragePooling2D, Dense, Dropout\n",
    "from tensorflow.keras.models import Model"
   ]
  },
  {
   "cell_type": "code",
   "execution_count": null,
   "id": "5eb15c65",
   "metadata": {},
   "outputs": [],
   "source": [
    "def build_and_compile_model():\n",
    "    base_model = MobileNetV2(\n",
    "        input_shape = IMAGE_SIZE + (3,), \n",
    "        include_top = False,\n",
    "        weights = None\n",
    "    )\n",
    "    \n",
    "    x = preprocess_input(base_model.output)\n",
    "    x = GlobalAveragePooling2D()(x)\n",
    "    x = Dense(512, activation='relu')(x)\n",
    "    x = Dropout(0.2)(x)\n",
    "    outputs = Dense(CLASSES, activation='softmax')(x)\n",
    "    \n",
    "    model = Model(inputs=base_model.input, outputs=outputs)\n",
    "    model.compile(\n",
    "        optimizer = 'adam', \n",
    "        loss = 'categorical_crossentropy', \n",
    "        metrics = ['accuracy']\n",
    "    )\n",
    "    return model"
   ]
  },
  {
   "cell_type": "code",
   "execution_count": null,
   "id": "88ee83c4",
   "metadata": {},
   "outputs": [],
   "source": [
    "model = build_and_compile_model()\n",
    "model.summary()"
   ]
  },
  {
   "cell_type": "markdown",
   "id": "6f817c19",
   "metadata": {},
   "source": [
    "# Side-car evaluation"
   ]
  },
  {
   "cell_type": "code",
   "execution_count": null,
   "id": "a5496eb9",
   "metadata": {},
   "outputs": [],
   "source": [
    "tf.keras.experimental.SidecarEvaluator(\n",
    "    model = model,\n",
    "    data = validate_dataset,\n",
    "    checkpoint_dir = MODEL_CKPT, # Dir for training-saved checkpoint\n",
    "    steps = None, # Evaluate until dataset is exhausted\n",
    "    max_evaluations = None, # The evaluation needs to be stopped manually\n",
    "    callbacks = [TensorBoard(log_dir='./logs')]\n",
    ").start()\n",
    "%tensorboard --logdir=logs"
   ]
  }
 ],
 "metadata": {
  "kernelspec": {
   "display_name": "Python 3 (ipykernel)",
   "language": "python",
   "name": "python3"
  },
  "language_info": {
   "codemirror_mode": {
    "name": "ipython",
    "version": 3
   },
   "file_extension": ".py",
   "mimetype": "text/x-python",
   "name": "python",
   "nbconvert_exporter": "python",
   "pygments_lexer": "ipython3",
   "version": "3.8.11"
  }
 },
 "nbformat": 4,
 "nbformat_minor": 5
}
