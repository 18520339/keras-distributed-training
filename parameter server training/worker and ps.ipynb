{
 "cells": [
  {
   "cell_type": "code",
   "execution_count": 1,
   "id": "36018a62",
   "metadata": {},
   "outputs": [],
   "source": [
    "import os\n",
    "import json\n",
    "import tensorflow as tf\n",
    "tf.get_logger().setLevel('ERROR')"
   ]
  },
  {
   "cell_type": "markdown",
   "id": "d260307c",
   "metadata": {},
   "source": [
    "# Cluster setup"
   ]
  },
  {
   "cell_type": "code",
   "execution_count": 2,
   "id": "e4ada82a",
   "metadata": {},
   "outputs": [],
   "source": [
    "tf_config = {\n",
    "    'cluster': {\n",
    "        'worker': ['192.168.1.1:12345', '192.168.1.2:12345'],\n",
    "        'ps': ['192.168.1.3:12345', '192.168.1.4:12345'],\n",
    "        'chief': ['192.168.1.5:12345']\n",
    "    },\n",
    "    'task': {'type': 'worker', 'index': 0},\n",
    "    # 'task': {'type': 'ps', 'index': 0}\n",
    "}\n",
    "os.environ.pop('TF_CONFIG', None)\n",
    "os.environ['TF_CONFIG'] = json.dumps(tf_config)"
   ]
  },
  {
   "cell_type": "code",
   "execution_count": 3,
   "id": "942939ee",
   "metadata": {},
   "outputs": [
    {
     "name": "stdout",
     "output_type": "stream",
     "text": [
      "Worker detected with GPU(s): [PhysicalDevice(name='/physical_device:GPU:0', device_type='GPU')]\n"
     ]
    }
   ],
   "source": [
    "cluster_resolver = tf.distribute.cluster_resolver.TFConfigClusterResolver()\n",
    "if cluster_resolver.task_type == 'ps':\n",
    "    os.environ['CUDA_VISIBLE_DEVICES'] = '-1'  \n",
    "    print('Parameter server detected')\n",
    "elif cluster_resolver.task_type == 'worker':\n",
    "    gpu_devices = tf.config.list_physical_devices('GPU') \n",
    "    if len(gpu_devices) == 0: raise SystemError('GPU device not found')\n",
    "    for gpu in gpu_devices: \n",
    "        tf.config.experimental.set_memory_growth(gpu, True)\n",
    "    print('Worker detected with GPU(s):', gpu_devices)\n",
    "else: raise SystemError('Machine in wrong role')"
   ]
  },
  {
   "cell_type": "code",
   "execution_count": null,
   "id": "28db99d7",
   "metadata": {},
   "outputs": [],
   "source": [
    "# Allow reporting worker and ps failure to the coordinator\n",
    "os.environ['GRPC_FAIL_FAST'] = 'use_caller'\n",
    "\n",
    "# Start a TensorFlow server and wait.\n",
    "server = tf.distribute.Server(\n",
    "    cluster_resolver.cluster_spec(),\n",
    "    job_name = cluster_resolver.task_type,\n",
    "    task_index = cluster_resolver.task_id,\n",
    "    protocol = cluster_resolver.rpc_layer or 'grpc',\n",
    "    start = True\n",
    ")\n",
    "server.join()"
   ]
  },
  {
   "cell_type": "code",
   "execution_count": null,
   "id": "03970ffc",
   "metadata": {},
   "outputs": [],
   "source": []
  }
 ],
 "metadata": {
  "kernelspec": {
   "display_name": "Python 3 (ipykernel)",
   "language": "python",
   "name": "python3"
  },
  "language_info": {
   "codemirror_mode": {
    "name": "ipython",
    "version": 3
   },
   "file_extension": ".py",
   "mimetype": "text/x-python",
   "name": "python",
   "nbconvert_exporter": "python",
   "pygments_lexer": "ipython3",
   "version": "3.8.11"
  }
 },
 "nbformat": 4,
 "nbformat_minor": 5
}
