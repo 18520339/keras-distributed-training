{
 "cells": [
  {
   "cell_type": "code",
   "execution_count": 1,
   "id": "854ec4aa",
   "metadata": {},
   "outputs": [],
   "source": [
    "import os\n",
    "import json\n",
    "import h5py\n",
    "import tensorflow as tf\n",
    "tf.get_logger().setLevel('ERROR')\n",
    "%load_ext tensorboard"
   ]
  },
  {
   "cell_type": "markdown",
   "id": "c8d6823e",
   "metadata": {},
   "source": [
    "# Cluster setup"
   ]
  },
  {
   "cell_type": "code",
   "execution_count": 2,
   "id": "a4145c61",
   "metadata": {},
   "outputs": [],
   "source": [
    "tf_config = {\n",
    "    'cluster': {\n",
    "        'worker': ['192.168.1.1:12345', '192.168.1.2:12345'],\n",
    "        'ps': ['192.168.1.3:12345', '192.168.1.4:12345'],\n",
    "        'chief': ['192.168.1.5:12345']\n",
    "    },\n",
    "    'task': {'type': 'chief', 'index': 0}\n",
    "}\n",
    "os.environ.pop('TF_CONFIG', None)\n",
    "os.environ['TF_CONFIG'] = json.dumps(tf_config)\n",
    "\n",
    "# Allow reporting worker and ps failure to the coordinator\n",
    "os.environ['GRPC_FAIL_FAST'] = 'use_caller'"
   ]
  },
  {
   "cell_type": "markdown",
   "id": "0d705c95",
   "metadata": {},
   "source": [
    "## Instantiate a ParameterServerStrategy"
   ]
  },
  {
   "cell_type": "code",
   "execution_count": 3,
   "id": "43364e28",
   "metadata": {},
   "outputs": [
    {
     "data": {
      "text/plain": [
       "<tensorflow.python.distribute.parameter_server_strategy_v2.ParameterServerStrategyV2 at 0x13378310c10>"
      ]
     },
     "execution_count": 3,
     "metadata": {},
     "output_type": "execute_result"
    }
   ],
   "source": [
    "variable_partitioner = (\n",
    "    tf.distribute.experimental.partitioners.MinSizePartitioner(\n",
    "        min_shard_bytes = (256 << 10),\n",
    "        max_shards = len(tf_config['cluster']['ps'])\n",
    "    )\n",
    ")\n",
    "strategy = tf.distribute.experimental.ParameterServerStrategy(\n",
    "    tf.distribute.cluster_resolver.TFConfigClusterResolver(),\n",
    "    variable_partitioner = variable_partitioner\n",
    ")\n",
    "strategy"
   ]
  },
  {
   "cell_type": "markdown",
   "id": "0878e7bf",
   "metadata": {},
   "source": [
    "# Path setup"
   ]
  },
  {
   "cell_type": "code",
   "execution_count": 4,
   "id": "3390668e",
   "metadata": {},
   "outputs": [],
   "source": [
    "TRAIN_PATH = 'Dataset/Train'\n",
    "VALIDATE_PATH = 'Dataset/Validate'\n",
    "TEST_PATH = 'Dataset/Test'"
   ]
  },
  {
   "cell_type": "code",
   "execution_count": 5,
   "id": "60cbfd6b",
   "metadata": {},
   "outputs": [],
   "source": [
    "MODEL_PATH = 'Model'\n",
    "MODEL_CKPT = os.path.join(MODEL_PATH, 'ckpt-{epoch}')\n",
    "MODEL_TRAINED = os.path.join(MODEL_PATH, 'model.hdf5')\n",
    "MODEL_BACKUP = os.path.join(MODEL_PATH, 'backup')"
   ]
  },
  {
   "cell_type": "markdown",
   "id": "fca58d0e",
   "metadata": {},
   "source": [
    "# Preparing data"
   ]
  },
  {
   "cell_type": "code",
   "execution_count": 6,
   "id": "4b16ed86",
   "metadata": {},
   "outputs": [],
   "source": [
    "CLASSES = 30\n",
    "IMAGE_SIZE = (224, 224)\n",
    "PER_WORKER_BATCH_SIZE = 32\n",
    "NUM_WORKERS = len(tf_config['cluster']['worker'])\n",
    "GLOBAL_BATCH_SIZE = PER_WORKER_BATCH_SIZE * NUM_WORKERS\n",
    "EPOCHS = 3"
   ]
  },
  {
   "cell_type": "code",
   "execution_count": 7,
   "id": "2ae29b8c",
   "metadata": {},
   "outputs": [],
   "source": [
    "from tensorflow.keras.preprocessing.image import ImageDataGenerator\n",
    "train_generator = ImageDataGenerator(\n",
    "    rescale = 1./255,\n",
    "    rotation_range = 40, \n",
    "    width_shift_range = 0.2, \n",
    "    height_shift_range = 0.2,\n",
    "    shear_range = 0.2,\n",
    "    zoom_range = 0.2,\n",
    "    horizontal_flip = True\n",
    ")"
   ]
  },
  {
   "cell_type": "markdown",
   "id": "c810180b",
   "metadata": {},
   "source": [
    "## Input data"
   ]
  },
  {
   "cell_type": "code",
   "execution_count": 8,
   "id": "fb11ae7b",
   "metadata": {},
   "outputs": [],
   "source": [
    "def train_dataset_fn(input_context):\n",
    "    batch_size = input_context.get_per_replica_batch_size(GLOBAL_BATCH_SIZE)\n",
    "    train_dataset = tf.data.Dataset.from_generator(\n",
    "        lambda: train_generator.flow_from_directory(\n",
    "            TRAIN_PATH, \n",
    "            target_size = IMAGE_SIZE, \n",
    "            batch_size = batch_size\n",
    "        ), \n",
    "        output_types = (tf.float32, tf.float32), \n",
    "        output_shapes = ([batch_size, *IMAGE_SIZE, 3], [batch_size, CLASSES])\n",
    "    ).shard(\n",
    "        input_context.num_input_pipelines, \n",
    "        input_context.input_pipeline_id\n",
    "    ).cache()\n",
    "    return train_dataset.prefetch(buffer_size=tf.data.AUTOTUNE)"
   ]
  },
  {
   "cell_type": "code",
   "execution_count": 9,
   "id": "a260cb79",
   "metadata": {},
   "outputs": [
    {
     "name": "stdout",
     "output_type": "stream",
     "text": [
      "Found 17581 files\n"
     ]
    }
   ],
   "source": [
    "from tensorflow.keras.utils.experimental import DatasetCreator\n",
    "train_dataset = DatasetCreator(train_dataset_fn)\n",
    "num_train = !find {TRAIN_PATH} -type f | wc -l\n",
    "num_train = int(num_train[0])\n",
    "print(f'Found {num_train} files')"
   ]
  },
  {
   "cell_type": "markdown",
   "id": "2f8912fc",
   "metadata": {},
   "source": [
    "# Model implement"
   ]
  },
  {
   "cell_type": "code",
   "execution_count": 10,
   "id": "19261530",
   "metadata": {},
   "outputs": [],
   "source": [
    "from tensorflow.keras.applications import MobileNetV2\n",
    "from tensorflow.keras.applications.mobilenet_v2 import preprocess_input\n",
    "from tensorflow.keras.layers import GlobalAveragePooling2D, Dense, Dropout\n",
    "from tensorflow.keras.models import Model"
   ]
  },
  {
   "cell_type": "markdown",
   "id": "d4384c06",
   "metadata": {},
   "source": [
    "## Define the model"
   ]
  },
  {
   "cell_type": "code",
   "execution_count": 11,
   "id": "3f2a2fef",
   "metadata": {},
   "outputs": [],
   "source": [
    "def build_and_compile_model():\n",
    "    base_model = MobileNetV2(\n",
    "        input_shape = IMAGE_SIZE + (3,), \n",
    "        include_top = False,\n",
    "        weights = None\n",
    "    )\n",
    "    \n",
    "    x = preprocess_input(base_model.output)\n",
    "    x = GlobalAveragePooling2D()(x)\n",
    "    x = Dense(512, activation='relu')(x)\n",
    "    x = Dropout(0.2)(x)\n",
    "    outputs = Dense(CLASSES, activation='softmax')(x)\n",
    "    \n",
    "    model = Model(inputs=base_model.input, outputs=outputs)\n",
    "    model.compile(\n",
    "        optimizer = 'adam', \n",
    "        loss = 'categorical_crossentropy', \n",
    "        metrics = ['accuracy']\n",
    "    )\n",
    "    return model"
   ]
  },
  {
   "cell_type": "markdown",
   "id": "3f9d10fe",
   "metadata": {},
   "source": [
    "## Callbacks"
   ]
  },
  {
   "cell_type": "code",
   "execution_count": 12,
   "id": "a9dc27f0",
   "metadata": {},
   "outputs": [],
   "source": [
    "from tensorflow.keras.callbacks import TensorBoard, ModelCheckpoint \n",
    "from tensorflow.keras.callbacks import Callback, LearningRateScheduler\n",
    "from tensorflow.keras.callbacks.experimental import BackupAndRestore"
   ]
  },
  {
   "cell_type": "code",
   "execution_count": 13,
   "id": "9ec0d437",
   "metadata": {},
   "outputs": [],
   "source": [
    "def decay(epoch):\n",
    "    if epoch < 3: return 1e-3\n",
    "    elif epoch >= 3 and epoch < 7: return 1e-4\n",
    "    return 1e-5"
   ]
  },
  {
   "cell_type": "code",
   "execution_count": 14,
   "id": "726c807a",
   "metadata": {},
   "outputs": [],
   "source": [
    "# Define a callback for printing the learning rate at the end of each epoch.\n",
    "class PrintLR(Callback):\n",
    "    def on_epoch_end(self, epoch, logs=None):\n",
    "        print(f'\\nLearning rate for epoch {epoch + 1} is {model.optimizer.lr.numpy()}')"
   ]
  },
  {
   "cell_type": "code",
   "execution_count": 15,
   "id": "5597af5c",
   "metadata": {},
   "outputs": [],
   "source": [
    "callbacks = [\n",
    "    TensorBoard(log_dir='./logs'),\n",
    "    BackupAndRestore(backup_dir=MODEL_BACKUP),\n",
    "    ModelCheckpoint(filepath=MODEL_CKPT, save_weights_only=True, verbose=1),\n",
    "    LearningRateScheduler(decay),\n",
    "    PrintLR()\n",
    "]\n",
    "!rm -rf logs"
   ]
  },
  {
   "cell_type": "markdown",
   "id": "0d2378b6",
   "metadata": {},
   "source": [
    "## Training"
   ]
  },
  {
   "cell_type": "code",
   "execution_count": 16,
   "id": "303234e9",
   "metadata": {},
   "outputs": [
    {
     "name": "stdout",
     "output_type": "stream",
     "text": [
      "Epoch 1/3\n",
      "Found 17581 images belonging to 30 classes.\n",
      "Found 17581 images belonging to 30 classes.\n",
      "137/137 - 128s - loss: 3.8640 - accuracy: 0.0466 - 128s/epoch - 934ms/step\n",
      "Epoch 2/3\n",
      "137/137 - 110s - loss: 3.3802 - accuracy: 0.0520 - 110s/epoch - 803ms/step\n",
      "Epoch 3/3\n",
      "137/137 - 108s - loss: 3.3887 - accuracy: 0.0589 - 108s/epoch - 791ms/step\n"
     ]
    }
   ],
   "source": [
    "with strategy.scope(): \n",
    "    model = build_and_compile_model()\n",
    "\n",
    "history = model.fit(\n",
    "    train_dataset,\n",
    "    epochs = EPOCHS,\n",
    "    steps_per_epoch = num_train // (GLOBAL_BATCH_SIZE * NUM_WORKERS),\n",
    "    # steps_per_epoch = num_train // GLOBAL_BATCH_SIZE,\n",
    "    # callbacks = callbacks,\n",
    "    # verbose = 1, # not allowed with ParameterServerStrategy\n",
    ")\n",
    "model.save(MODEL_TRAINED)"
   ]
  },
  {
   "cell_type": "code",
   "execution_count": null,
   "id": "17c6fd3f",
   "metadata": {},
   "outputs": [],
   "source": [
    "model.save(MODEL_TRAINED)\n",
    "%tensorboard --logdir=logs"
   ]
  }
 ],
 "metadata": {
  "kernelspec": {
   "display_name": "Python 3 (ipykernel)",
   "language": "python",
   "name": "python3"
  },
  "language_info": {
   "codemirror_mode": {
    "name": "ipython",
    "version": 3
   },
   "file_extension": ".py",
   "mimetype": "text/x-python",
   "name": "python",
   "nbconvert_exporter": "python",
   "pygments_lexer": "ipython3",
   "version": "3.8.11"
  }
 },
 "nbformat": 4,
 "nbformat_minor": 5
}
